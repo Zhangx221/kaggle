{
 "cells": [
  {
   "cell_type": "markdown",
   "id": "1da2354c",
   "metadata": {},
   "source": [
    "## 前置处理"
   ]
  },
  {
   "cell_type": "code",
   "execution_count": 1,
   "id": "591abe53",
   "metadata": {},
   "outputs": [],
   "source": [
    "import numpy as np\n",
    "import pandas as pd\n",
    "%matplotlib inline\n",
    "import matplotlib.pyplot as plt\n",
    "import seaborn as sns\n",
    "\n",
    "import warnings\n",
    "warnings.filterwarnings(\"ignore\")\n",
    "\n",
    "from scipy import stats\n",
    "from scipy.stats import norm, skew\n",
    "\n",
    "pd.set_option('display.float_format', lambda x: f'{x:.3f}')\n",
    "# 设置pandas展示格式"
   ]
  },
  {
   "cell_type": "code",
   "execution_count": 2,
   "id": "7dba59b4",
   "metadata": {},
   "outputs": [
    {
     "name": "stdout",
     "output_type": "stream",
     "text": [
      "data_description.txt\n",
      "sample_submission.csv\n",
      "test.csv\n",
      "train.csv\n"
     ]
    }
   ],
   "source": [
    "#检查指定目录下的可用文件\n",
    "import os\n",
    "for root, dirs, files in os.walk(\"./data\"):  \n",
    "    print(\"\\n\".join(files)) #当前路径下所有非目录子文件"
   ]
  },
  {
   "cell_type": "code",
   "execution_count": 3,
   "id": "bb0c04c3",
   "metadata": {},
   "outputs": [],
   "source": [
    "# 读取数据\n",
    "train = pd.read_csv(\"./data/train.csv\")\n",
    "test = pd.read_csv(\"./data/test.csv\")"
   ]
  },
  {
   "cell_type": "code",
   "execution_count": 4,
   "id": "4923f421",
   "metadata": {},
   "outputs": [
    {
     "data": {
      "text/html": [
       "<div>\n",
       "<style scoped>\n",
       "    .dataframe tbody tr th:only-of-type {\n",
       "        vertical-align: middle;\n",
       "    }\n",
       "\n",
       "    .dataframe tbody tr th {\n",
       "        vertical-align: top;\n",
       "    }\n",
       "\n",
       "    .dataframe thead th {\n",
       "        text-align: right;\n",
       "    }\n",
       "</style>\n",
       "<table border=\"1\" class=\"dataframe\">\n",
       "  <thead>\n",
       "    <tr style=\"text-align: right;\">\n",
       "      <th></th>\n",
       "      <th>Id</th>\n",
       "      <th>MSSubClass</th>\n",
       "      <th>MSZoning</th>\n",
       "      <th>LotFrontage</th>\n",
       "      <th>LotArea</th>\n",
       "      <th>Street</th>\n",
       "      <th>Alley</th>\n",
       "      <th>LotShape</th>\n",
       "      <th>LandContour</th>\n",
       "      <th>Utilities</th>\n",
       "      <th>...</th>\n",
       "      <th>PoolArea</th>\n",
       "      <th>PoolQC</th>\n",
       "      <th>Fence</th>\n",
       "      <th>MiscFeature</th>\n",
       "      <th>MiscVal</th>\n",
       "      <th>MoSold</th>\n",
       "      <th>YrSold</th>\n",
       "      <th>SaleType</th>\n",
       "      <th>SaleCondition</th>\n",
       "      <th>SalePrice</th>\n",
       "    </tr>\n",
       "  </thead>\n",
       "  <tbody>\n",
       "    <tr>\n",
       "      <th>0</th>\n",
       "      <td>1</td>\n",
       "      <td>60</td>\n",
       "      <td>RL</td>\n",
       "      <td>65.000</td>\n",
       "      <td>8450</td>\n",
       "      <td>Pave</td>\n",
       "      <td>NaN</td>\n",
       "      <td>Reg</td>\n",
       "      <td>Lvl</td>\n",
       "      <td>AllPub</td>\n",
       "      <td>...</td>\n",
       "      <td>0</td>\n",
       "      <td>NaN</td>\n",
       "      <td>NaN</td>\n",
       "      <td>NaN</td>\n",
       "      <td>0</td>\n",
       "      <td>2</td>\n",
       "      <td>2008</td>\n",
       "      <td>WD</td>\n",
       "      <td>Normal</td>\n",
       "      <td>208500</td>\n",
       "    </tr>\n",
       "    <tr>\n",
       "      <th>1</th>\n",
       "      <td>2</td>\n",
       "      <td>20</td>\n",
       "      <td>RL</td>\n",
       "      <td>80.000</td>\n",
       "      <td>9600</td>\n",
       "      <td>Pave</td>\n",
       "      <td>NaN</td>\n",
       "      <td>Reg</td>\n",
       "      <td>Lvl</td>\n",
       "      <td>AllPub</td>\n",
       "      <td>...</td>\n",
       "      <td>0</td>\n",
       "      <td>NaN</td>\n",
       "      <td>NaN</td>\n",
       "      <td>NaN</td>\n",
       "      <td>0</td>\n",
       "      <td>5</td>\n",
       "      <td>2007</td>\n",
       "      <td>WD</td>\n",
       "      <td>Normal</td>\n",
       "      <td>181500</td>\n",
       "    </tr>\n",
       "    <tr>\n",
       "      <th>2</th>\n",
       "      <td>3</td>\n",
       "      <td>60</td>\n",
       "      <td>RL</td>\n",
       "      <td>68.000</td>\n",
       "      <td>11250</td>\n",
       "      <td>Pave</td>\n",
       "      <td>NaN</td>\n",
       "      <td>IR1</td>\n",
       "      <td>Lvl</td>\n",
       "      <td>AllPub</td>\n",
       "      <td>...</td>\n",
       "      <td>0</td>\n",
       "      <td>NaN</td>\n",
       "      <td>NaN</td>\n",
       "      <td>NaN</td>\n",
       "      <td>0</td>\n",
       "      <td>9</td>\n",
       "      <td>2008</td>\n",
       "      <td>WD</td>\n",
       "      <td>Normal</td>\n",
       "      <td>223500</td>\n",
       "    </tr>\n",
       "    <tr>\n",
       "      <th>3</th>\n",
       "      <td>4</td>\n",
       "      <td>70</td>\n",
       "      <td>RL</td>\n",
       "      <td>60.000</td>\n",
       "      <td>9550</td>\n",
       "      <td>Pave</td>\n",
       "      <td>NaN</td>\n",
       "      <td>IR1</td>\n",
       "      <td>Lvl</td>\n",
       "      <td>AllPub</td>\n",
       "      <td>...</td>\n",
       "      <td>0</td>\n",
       "      <td>NaN</td>\n",
       "      <td>NaN</td>\n",
       "      <td>NaN</td>\n",
       "      <td>0</td>\n",
       "      <td>2</td>\n",
       "      <td>2006</td>\n",
       "      <td>WD</td>\n",
       "      <td>Abnorml</td>\n",
       "      <td>140000</td>\n",
       "    </tr>\n",
       "    <tr>\n",
       "      <th>4</th>\n",
       "      <td>5</td>\n",
       "      <td>60</td>\n",
       "      <td>RL</td>\n",
       "      <td>84.000</td>\n",
       "      <td>14260</td>\n",
       "      <td>Pave</td>\n",
       "      <td>NaN</td>\n",
       "      <td>IR1</td>\n",
       "      <td>Lvl</td>\n",
       "      <td>AllPub</td>\n",
       "      <td>...</td>\n",
       "      <td>0</td>\n",
       "      <td>NaN</td>\n",
       "      <td>NaN</td>\n",
       "      <td>NaN</td>\n",
       "      <td>0</td>\n",
       "      <td>12</td>\n",
       "      <td>2008</td>\n",
       "      <td>WD</td>\n",
       "      <td>Normal</td>\n",
       "      <td>250000</td>\n",
       "    </tr>\n",
       "  </tbody>\n",
       "</table>\n",
       "<p>5 rows × 81 columns</p>\n",
       "</div>"
      ],
      "text/plain": [
       "   Id  MSSubClass MSZoning  LotFrontage  LotArea Street Alley LotShape  \\\n",
       "0   1          60       RL       65.000     8450   Pave   NaN      Reg   \n",
       "1   2          20       RL       80.000     9600   Pave   NaN      Reg   \n",
       "2   3          60       RL       68.000    11250   Pave   NaN      IR1   \n",
       "3   4          70       RL       60.000     9550   Pave   NaN      IR1   \n",
       "4   5          60       RL       84.000    14260   Pave   NaN      IR1   \n",
       "\n",
       "  LandContour Utilities  ... PoolArea PoolQC Fence MiscFeature MiscVal MoSold  \\\n",
       "0         Lvl    AllPub  ...        0    NaN   NaN         NaN       0      2   \n",
       "1         Lvl    AllPub  ...        0    NaN   NaN         NaN       0      5   \n",
       "2         Lvl    AllPub  ...        0    NaN   NaN         NaN       0      9   \n",
       "3         Lvl    AllPub  ...        0    NaN   NaN         NaN       0      2   \n",
       "4         Lvl    AllPub  ...        0    NaN   NaN         NaN       0     12   \n",
       "\n",
       "  YrSold  SaleType  SaleCondition  SalePrice  \n",
       "0   2008        WD         Normal     208500  \n",
       "1   2007        WD         Normal     181500  \n",
       "2   2008        WD         Normal     223500  \n",
       "3   2006        WD        Abnorml     140000  \n",
       "4   2008        WD         Normal     250000  \n",
       "\n",
       "[5 rows x 81 columns]"
      ]
     },
     "execution_count": 4,
     "metadata": {},
     "output_type": "execute_result"
    }
   ],
   "source": [
    "train.head(5)"
   ]
  },
  {
   "cell_type": "code",
   "execution_count": 5,
   "id": "e38a019c",
   "metadata": {},
   "outputs": [
    {
     "data": {
      "text/html": [
       "<div>\n",
       "<style scoped>\n",
       "    .dataframe tbody tr th:only-of-type {\n",
       "        vertical-align: middle;\n",
       "    }\n",
       "\n",
       "    .dataframe tbody tr th {\n",
       "        vertical-align: top;\n",
       "    }\n",
       "\n",
       "    .dataframe thead th {\n",
       "        text-align: right;\n",
       "    }\n",
       "</style>\n",
       "<table border=\"1\" class=\"dataframe\">\n",
       "  <thead>\n",
       "    <tr style=\"text-align: right;\">\n",
       "      <th></th>\n",
       "      <th>Id</th>\n",
       "      <th>MSSubClass</th>\n",
       "      <th>MSZoning</th>\n",
       "      <th>LotFrontage</th>\n",
       "      <th>LotArea</th>\n",
       "      <th>Street</th>\n",
       "      <th>Alley</th>\n",
       "      <th>LotShape</th>\n",
       "      <th>LandContour</th>\n",
       "      <th>Utilities</th>\n",
       "      <th>...</th>\n",
       "      <th>ScreenPorch</th>\n",
       "      <th>PoolArea</th>\n",
       "      <th>PoolQC</th>\n",
       "      <th>Fence</th>\n",
       "      <th>MiscFeature</th>\n",
       "      <th>MiscVal</th>\n",
       "      <th>MoSold</th>\n",
       "      <th>YrSold</th>\n",
       "      <th>SaleType</th>\n",
       "      <th>SaleCondition</th>\n",
       "    </tr>\n",
       "  </thead>\n",
       "  <tbody>\n",
       "    <tr>\n",
       "      <th>0</th>\n",
       "      <td>1461</td>\n",
       "      <td>20</td>\n",
       "      <td>RH</td>\n",
       "      <td>80.000</td>\n",
       "      <td>11622</td>\n",
       "      <td>Pave</td>\n",
       "      <td>NaN</td>\n",
       "      <td>Reg</td>\n",
       "      <td>Lvl</td>\n",
       "      <td>AllPub</td>\n",
       "      <td>...</td>\n",
       "      <td>120</td>\n",
       "      <td>0</td>\n",
       "      <td>NaN</td>\n",
       "      <td>MnPrv</td>\n",
       "      <td>NaN</td>\n",
       "      <td>0</td>\n",
       "      <td>6</td>\n",
       "      <td>2010</td>\n",
       "      <td>WD</td>\n",
       "      <td>Normal</td>\n",
       "    </tr>\n",
       "    <tr>\n",
       "      <th>1</th>\n",
       "      <td>1462</td>\n",
       "      <td>20</td>\n",
       "      <td>RL</td>\n",
       "      <td>81.000</td>\n",
       "      <td>14267</td>\n",
       "      <td>Pave</td>\n",
       "      <td>NaN</td>\n",
       "      <td>IR1</td>\n",
       "      <td>Lvl</td>\n",
       "      <td>AllPub</td>\n",
       "      <td>...</td>\n",
       "      <td>0</td>\n",
       "      <td>0</td>\n",
       "      <td>NaN</td>\n",
       "      <td>NaN</td>\n",
       "      <td>Gar2</td>\n",
       "      <td>12500</td>\n",
       "      <td>6</td>\n",
       "      <td>2010</td>\n",
       "      <td>WD</td>\n",
       "      <td>Normal</td>\n",
       "    </tr>\n",
       "    <tr>\n",
       "      <th>2</th>\n",
       "      <td>1463</td>\n",
       "      <td>60</td>\n",
       "      <td>RL</td>\n",
       "      <td>74.000</td>\n",
       "      <td>13830</td>\n",
       "      <td>Pave</td>\n",
       "      <td>NaN</td>\n",
       "      <td>IR1</td>\n",
       "      <td>Lvl</td>\n",
       "      <td>AllPub</td>\n",
       "      <td>...</td>\n",
       "      <td>0</td>\n",
       "      <td>0</td>\n",
       "      <td>NaN</td>\n",
       "      <td>MnPrv</td>\n",
       "      <td>NaN</td>\n",
       "      <td>0</td>\n",
       "      <td>3</td>\n",
       "      <td>2010</td>\n",
       "      <td>WD</td>\n",
       "      <td>Normal</td>\n",
       "    </tr>\n",
       "    <tr>\n",
       "      <th>3</th>\n",
       "      <td>1464</td>\n",
       "      <td>60</td>\n",
       "      <td>RL</td>\n",
       "      <td>78.000</td>\n",
       "      <td>9978</td>\n",
       "      <td>Pave</td>\n",
       "      <td>NaN</td>\n",
       "      <td>IR1</td>\n",
       "      <td>Lvl</td>\n",
       "      <td>AllPub</td>\n",
       "      <td>...</td>\n",
       "      <td>0</td>\n",
       "      <td>0</td>\n",
       "      <td>NaN</td>\n",
       "      <td>NaN</td>\n",
       "      <td>NaN</td>\n",
       "      <td>0</td>\n",
       "      <td>6</td>\n",
       "      <td>2010</td>\n",
       "      <td>WD</td>\n",
       "      <td>Normal</td>\n",
       "    </tr>\n",
       "    <tr>\n",
       "      <th>4</th>\n",
       "      <td>1465</td>\n",
       "      <td>120</td>\n",
       "      <td>RL</td>\n",
       "      <td>43.000</td>\n",
       "      <td>5005</td>\n",
       "      <td>Pave</td>\n",
       "      <td>NaN</td>\n",
       "      <td>IR1</td>\n",
       "      <td>HLS</td>\n",
       "      <td>AllPub</td>\n",
       "      <td>...</td>\n",
       "      <td>144</td>\n",
       "      <td>0</td>\n",
       "      <td>NaN</td>\n",
       "      <td>NaN</td>\n",
       "      <td>NaN</td>\n",
       "      <td>0</td>\n",
       "      <td>1</td>\n",
       "      <td>2010</td>\n",
       "      <td>WD</td>\n",
       "      <td>Normal</td>\n",
       "    </tr>\n",
       "  </tbody>\n",
       "</table>\n",
       "<p>5 rows × 80 columns</p>\n",
       "</div>"
      ],
      "text/plain": [
       "     Id  MSSubClass MSZoning  LotFrontage  LotArea Street Alley LotShape  \\\n",
       "0  1461          20       RH       80.000    11622   Pave   NaN      Reg   \n",
       "1  1462          20       RL       81.000    14267   Pave   NaN      IR1   \n",
       "2  1463          60       RL       74.000    13830   Pave   NaN      IR1   \n",
       "3  1464          60       RL       78.000     9978   Pave   NaN      IR1   \n",
       "4  1465         120       RL       43.000     5005   Pave   NaN      IR1   \n",
       "\n",
       "  LandContour Utilities  ... ScreenPorch PoolArea PoolQC  Fence MiscFeature  \\\n",
       "0         Lvl    AllPub  ...         120        0    NaN  MnPrv         NaN   \n",
       "1         Lvl    AllPub  ...           0        0    NaN    NaN        Gar2   \n",
       "2         Lvl    AllPub  ...           0        0    NaN  MnPrv         NaN   \n",
       "3         Lvl    AllPub  ...           0        0    NaN    NaN         NaN   \n",
       "4         HLS    AllPub  ...         144        0    NaN    NaN         NaN   \n",
       "\n",
       "  MiscVal MoSold  YrSold  SaleType  SaleCondition  \n",
       "0       0      6    2010        WD         Normal  \n",
       "1   12500      6    2010        WD         Normal  \n",
       "2       0      3    2010        WD         Normal  \n",
       "3       0      6    2010        WD         Normal  \n",
       "4       0      1    2010        WD         Normal  \n",
       "\n",
       "[5 rows x 80 columns]"
      ]
     },
     "execution_count": 5,
     "metadata": {},
     "output_type": "execute_result"
    }
   ],
   "source": [
    "test.head()"
   ]
  },
  {
   "cell_type": "code",
   "execution_count": 6,
   "id": "a86bfda1",
   "metadata": {},
   "outputs": [
    {
     "data": {
      "text/plain": [
       "((1460, 81), (1459, 80))"
      ]
     },
     "execution_count": 6,
     "metadata": {},
     "output_type": "execute_result"
    }
   ],
   "source": [
    "train.shape, test.shape"
   ]
  },
  {
   "cell_type": "code",
   "execution_count": 7,
   "id": "d5de9bdc",
   "metadata": {},
   "outputs": [],
   "source": [
    "# 删除特征中的ID,并保存下来\n",
    "train_ID = train.loc[:,\"Id\"]\n",
    "test_ID = test.loc[:,\"Id\"]\n",
    "train.drop(\"Id\", axis=1, inplace=True)\n",
    "test.drop(\"Id\", axis=1, inplace=True)"
   ]
  },
  {
   "cell_type": "code",
   "execution_count": 8,
   "id": "39b64566",
   "metadata": {},
   "outputs": [
    {
     "data": {
      "text/plain": [
       "((1460, 80), (1459, 79))"
      ]
     },
     "execution_count": 8,
     "metadata": {},
     "output_type": "execute_result"
    }
   ],
   "source": [
    "train.shape, test.shape"
   ]
  },
  {
   "cell_type": "markdown",
   "id": "00eac0af",
   "metadata": {},
   "source": [
    "## 数据预处理"
   ]
  },
  {
   "cell_type": "markdown",
   "id": "e893906c",
   "metadata": {},
   "source": [
    "### 异常值"
   ]
  },
  {
   "cell_type": "code",
   "execution_count": 9,
   "id": "f5babbf3",
   "metadata": {},
   "outputs": [
    {
     "data": {
      "image/png": "[encoded data removed]",
      "text/plain": [
       "<Figure size 432x288 with 1 Axes>"
      ]
     },
     "metadata": {
      "needs_background": "light"
     },
     "output_type": "display_data"
    }
   ],
   "source": [
    "fig, ax = plt.subplots()\n",
    "ax.scatter(x = train[\"GrLivArea\"], y = train[\"SalePrice\"])\n",
    "plt.ylabel(\"SalePrice\", fontsize=13)\n",
    "plt.xlabel(\"GrLivArea\", fontsize=13)\n",
    "plt.show()"
   ]
  },
  {
   "cell_type": "markdown",
   "id": "027f5e12",
   "metadata": {},
   "source": [
    "可以看到右下角有两个点售价低，面积巨大"
   ]
  },
  {
   "cell_type": "markdown",
   "id": "ec217ded",
   "metadata": {},
   "source": [
    "删除异常值"
   ]
  },
  {
   "cell_type": "code",
   "execution_count": 10,
   "id": "afdebfbe",
   "metadata": {},
   "outputs": [],
   "source": [
    "train = train.drop(train[(train[\"GrLivArea\"]>4000) & (train[\"SalePrice\"]<300000)].index)"
   ]
  },
  {
   "cell_type": "code",
   "execution_count": 11,
   "id": "31e7c3b3",
   "metadata": {},
   "outputs": [
    {
     "data": {
      "image/png": "[encoded data removed]",
      "text/plain": [
       "<Figure size 432x288 with 1 Axes>"
      ]
     },
     "metadata": {
      "needs_background": "light"
     },
     "output_type": "display_data"
    }
   ],
   "source": [
    "fig, ax = plt.subplots()\n",
    "ax.scatter(x = train[\"GrLivArea\"], y = train[\"SalePrice\"])\n",
    "plt.ylabel(\"SalePrice\", fontsize=13)\n",
    "plt.xlabel(\"GrLivArea\", fontsize=13)\n",
    "plt.show()"
   ]
  },
  {
   "cell_type": "markdown",
   "id": "8ef233d6",
   "metadata": {},
   "source": [
    "异常值的删除总不会错，所以删除这两个比较极端的值\n",
    "\n",
    "训练数据里面可能还有其他异常值。但是，移除所有的异常值训练的模型并不是最好的（可能会过拟合），因为测试集里可能也存在异常的情况。所以我们要做的是是模型的泛化性能更好。"
   ]
  },
  {
   "cell_type": "markdown",
   "id": "5274ec98",
   "metadata": {},
   "source": [
    "### 目标变量"
   ]
  },
  {
   "cell_type": "code",
   "execution_count": 12,
   "id": "7f0b4792",
   "metadata": {},
   "outputs": [
    {
     "name": "stdout",
     "output_type": "stream",
     "text": [
      "SalePrice\n"
     ]
    }
   ],
   "source": [
    "print(\"\".join([i for i in train.columns if i not in test.columns]))"
   ]
  },
  {
   "cell_type": "markdown",
   "id": "85acfd92",
   "metadata": {},
   "source": [
    "SalePrice是我们的目标变量，我们应该首先分析他。"
   ]
  },
  {
   "cell_type": "code",
   "execution_count": 13,
   "id": "8d6696bf",
   "metadata": {},
   "outputs": [
    {
     "name": "stdout",
     "output_type": "stream",
     "text": [
      "\n",
      " mu = 180932.92 and sigma = 79467.79\n"
     ]
    },
    {
     "data": {
      "image/png": "[encoded data removed]",
      "text/plain": [
       "<Figure size 432x288 with 1 Axes>"
      ]
     },
     "metadata": {
      "needs_background": "light"
     },
     "output_type": "display_data"
    }
   ],
   "source": [
    "sns.distplot(train[\"SalePrice\"], fit=norm)\n",
    "\n",
    "# 得到高斯分布拟合参数\n",
    "mu, sigma = norm.fit(train[\"SalePrice\"])\n",
    "print(f\"\\n mu = {mu:.2f} and sigma = {sigma:.2f}\")\n",
    "\n",
    "# 现在画出分布的图注等\n",
    "plt.legend([f'Normal dist. ($\\mu=$ {mu:.2f} and $\\sigma=$ {sigma:.2f})'],\n",
    "          loc=\"best\")\n",
    "plt.ylabel(\"Frequency\")\n",
    "plt.title(\"SalePrice distribution\")\n",
    "plt.show()"
   ]
  },
  {
   "cell_type": "code",
   "execution_count": 14,
   "id": "2ffcf901",
   "metadata": {},
   "outputs": [
    {
     "data": {
      "image/png": "[encoded data removed]",
      "text/plain": [
       "<Figure size 432x288 with 1 Axes>"
      ]
     },
     "metadata": {
      "needs_background": "light"
     },
     "output_type": "display_data"
    }
   ],
   "source": [
    "# 画出QQ图\n",
    "fig = plt.figure()\n",
    "res = stats.probplot(train[\"SalePrice\"], plot=plt)\n",
    "plt.show()"
   ]
  },
  {
   "attachments": {
    "image.png": {
     "image/png": "[encoded data removed]"
    }
   },
   "cell_type": "markdown",
   "id": "93655a8a",
   "metadata": {},
   "source": [
    "正态分布是自然界中广泛存在的，我们都知道它是两头低，中间高，整个形态呈现对称钟形的一个分布，之所以叫正态分布，是因为在大量连续数据测量的情况下，我们比较希望看到这种状态，一个标准的正态分布是u（均值）=0，σ（标准差）=1。\n",
    "\n",
    "从下图可以看出，横坐标代表随机变量X的一个取值，在均值（u=0）附近概率密度最大，越偏离均值，概率密度减小，不在(u-3σ,u+3σ)范围内的数据就属于统计学意义上的异常值了。\n",
    "![image.png](attachment:image.png)"
   ]
  },
  {
   "cell_type": "markdown",
   "id": "f9495a6e",
   "metadata": {},
   "source": [
    "红色线条表示正态分布，蓝色线条表示样本数据，蓝色越接近红色参考线，说明越符合预期分布（也就是正态分布）\n",
    "Q-Q图是通过比较数据和正态分布的分位数是否相等来判断数据是不是符合正态分布"
   ]
  },
  {
   "cell_type": "markdown",
   "id": "ea36f731",
   "metadata": {},
   "source": [
    "我们发现目标变量右偏。因为（线性）模型喜欢正态分布的数据，我们需要处理变量使他成正态分布。"
   ]
  },
  {
   "cell_type": "code",
   "execution_count": 15,
   "id": "9be582e6",
   "metadata": {},
   "outputs": [
    {
     "name": "stdout",
     "output_type": "stream",
     "text": [
      "\n",
      " mu = 12.02 and sigma = 0.40\n"
     ]
    },
    {
     "data": {
      "image/png": "[encoded data removed]",
      "text/plain": [
       "<Figure size 432x288 with 1 Axes>"
      ]
     },
     "metadata": {
      "needs_background": "light"
     },
     "output_type": "display_data"
    },
    {
     "data": {
      "image/png": "[encoded data removed]",
      "text/plain": [
       "<Figure size 432x288 with 1 Axes>"
      ]
     },
     "metadata": {
      "needs_background": "light"
     },
     "output_type": "display_data"
    }
   ],
   "source": [
    "# 我们对目标变量使用log（1+x）来处理目标变量\n",
    "train[\"SalePrice\"] = np.log1p(train[\"SalePrice\"])\n",
    "\n",
    "# 继续查看新的分布\n",
    "sns.distplot(train[\"SalePrice\"], fit=norm)\n",
    "\n",
    "# 得到高斯分布拟合参数\n",
    "mu, sigma = norm.fit(train[\"SalePrice\"])\n",
    "print(f\"\\n mu = {mu:.2f} and sigma = {sigma:.2f}\")\n",
    "\n",
    "# 现在画出分布的图注等\n",
    "plt.legend([f'Normal dist. ($\\mu=$ {mu:.2f} and $\\sigma=$ {sigma:.2f})'],\n",
    "          loc=\"best\")\n",
    "plt.ylabel(\"Frequency\")\n",
    "plt.title(\"SalePrice distribution\")\n",
    "\n",
    "# 画出QQ图\n",
    "fig = plt.figure()\n",
    "res = stats.probplot(train[\"SalePrice\"], plot=plt)\n",
    "plt.show()"
   ]
  },
  {
   "cell_type": "markdown",
   "id": "76705e37",
   "metadata": {},
   "source": [
    "现在这种偏态得到了改正，数据基本符合正态分布了"
   ]
  },
  {
   "cell_type": "markdown",
   "id": "5b353d5d",
   "metadata": {},
   "source": [
    "## 特征工程"
   ]
  },
  {
   "cell_type": "markdown",
   "id": "7a4e5312",
   "metadata": {},
   "source": [
    "我们首先将训练集和测试放在同一个DataFrame中"
   ]
  },
  {
   "cell_type": "code",
   "execution_count": 16,
   "id": "81cc1105",
   "metadata": {},
   "outputs": [
    {
     "name": "stdout",
     "output_type": "stream",
     "text": [
      "all_data size is : (2917, 79)\n"
     ]
    }
   ],
   "source": [
    "ntrain = train.shape[0]\n",
    "ntest = test.shape[0]\n",
    "y_trian = train.SalePrice.values\n",
    "all_data = pd.concat((train, test)).reset_index(drop=True)\n",
    "# 重新设置索引，drop不让索引单独多出一列特征\n",
    "all_data.drop(['SalePrice'], axis=1, inplace=True)\n",
    "print(f\"all_data size is : {all_data.shape}\")"
   ]
  },
  {
   "cell_type": "markdown",
   "id": "edb08e8d",
   "metadata": {},
   "source": [
    "### 缺失数据"
   ]
  },
  {
   "cell_type": "code",
   "execution_count": 17,
   "id": "dc422f3a",
   "metadata": {
    "scrolled": true
   },
   "outputs": [
    {
     "data": {
      "text/html": [
       "<div>\n",
       "<style scoped>\n",
       "    .dataframe tbody tr th:only-of-type {\n",
       "        vertical-align: middle;\n",
       "    }\n",
       "\n",
       "    .dataframe tbody tr th {\n",
       "        vertical-align: top;\n",
       "    }\n",
       "\n",
       "    .dataframe thead th {\n",
       "        text-align: right;\n",
       "    }\n",
       "</style>\n",
       "<table border=\"1\" class=\"dataframe\">\n",
       "  <thead>\n",
       "    <tr style=\"text-align: right;\">\n",
       "      <th></th>\n",
       "      <th>Missing Ratio</th>\n",
       "    </tr>\n",
       "  </thead>\n",
       "  <tbody>\n",
       "    <tr>\n",
       "      <th>PoolQC</th>\n",
       "      <td>99.691</td>\n",
       "    </tr>\n",
       "    <tr>\n",
       "      <th>MiscFeature</th>\n",
       "      <td>96.400</td>\n",
       "    </tr>\n",
       "    <tr>\n",
       "      <th>Alley</th>\n",
       "      <td>93.212</td>\n",
       "    </tr>\n",
       "    <tr>\n",
       "      <th>Fence</th>\n",
       "      <td>80.425</td>\n",
       "    </tr>\n",
       "    <tr>\n",
       "      <th>FireplaceQu</th>\n",
       "      <td>48.680</td>\n",
       "    </tr>\n",
       "    <tr>\n",
       "      <th>LotFrontage</th>\n",
       "      <td>16.661</td>\n",
       "    </tr>\n",
       "    <tr>\n",
       "      <th>GarageFinish</th>\n",
       "      <td>5.451</td>\n",
       "    </tr>\n",
       "    <tr>\n",
       "      <th>GarageQual</th>\n",
       "      <td>5.451</td>\n",
       "    </tr>\n",
       "    <tr>\n",
       "      <th>GarageCond</th>\n",
       "      <td>5.451</td>\n",
       "    </tr>\n",
       "    <tr>\n",
       "      <th>GarageYrBlt</th>\n",
       "      <td>5.451</td>\n",
       "    </tr>\n",
       "    <tr>\n",
       "      <th>GarageType</th>\n",
       "      <td>5.382</td>\n",
       "    </tr>\n",
       "    <tr>\n",
       "      <th>BsmtExposure</th>\n",
       "      <td>2.811</td>\n",
       "    </tr>\n",
       "    <tr>\n",
       "      <th>BsmtCond</th>\n",
       "      <td>2.811</td>\n",
       "    </tr>\n",
       "    <tr>\n",
       "      <th>BsmtQual</th>\n",
       "      <td>2.777</td>\n",
       "    </tr>\n",
       "    <tr>\n",
       "      <th>BsmtFinType2</th>\n",
       "      <td>2.743</td>\n",
       "    </tr>\n",
       "    <tr>\n",
       "      <th>BsmtFinType1</th>\n",
       "      <td>2.708</td>\n",
       "    </tr>\n",
       "    <tr>\n",
       "      <th>MasVnrType</th>\n",
       "      <td>0.823</td>\n",
       "    </tr>\n",
       "    <tr>\n",
       "      <th>MasVnrArea</th>\n",
       "      <td>0.788</td>\n",
       "    </tr>\n",
       "    <tr>\n",
       "      <th>MSZoning</th>\n",
       "      <td>0.137</td>\n",
       "    </tr>\n",
       "    <tr>\n",
       "      <th>BsmtFullBath</th>\n",
       "      <td>0.069</td>\n",
       "    </tr>\n",
       "  </tbody>\n",
       "</table>\n",
       "</div>"
      ],
      "text/plain": [
       "              Missing Ratio\n",
       "PoolQC               99.691\n",
       "MiscFeature          96.400\n",
       "Alley                93.212\n",
       "Fence                80.425\n",
       "FireplaceQu          48.680\n",
       "LotFrontage          16.661\n",
       "GarageFinish          5.451\n",
       "GarageQual            5.451\n",
       "GarageCond            5.451\n",
       "GarageYrBlt           5.451\n",
       "GarageType            5.382\n",
       "BsmtExposure          2.811\n",
       "BsmtCond              2.811\n",
       "BsmtQual              2.777\n",
       "BsmtFinType2          2.743\n",
       "BsmtFinType1          2.708\n",
       "MasVnrType            0.823\n",
       "MasVnrArea            0.788\n",
       "MSZoning              0.137\n",
       "BsmtFullBath          0.069"
      ]
     },
     "execution_count": 17,
     "metadata": {},
     "output_type": "execute_result"
    }
   ],
   "source": [
    "all_data_na = (all_data.isnull().sum() / len(all_data)) * 100\n",
    "all_data_na = all_data_na.drop(all_data_na[all_data_na==0].index).sort_values(ascending=False)[:30]\n",
    "missing_data = pd.DataFrame({\"Missing Ratio\" :all_data_na})\n",
    "missing_data.head(20)"
   ]
  },
  {
   "cell_type": "code",
   "execution_count": 18,
   "id": "bfa9b330",
   "metadata": {},
   "outputs": [
    {
     "data": {
      "image/png": "[encoded data removed]",
      "text/plain": [
       "<Figure size 1080x864 with 1 Axes>"
      ]
     },
     "metadata": {
      "needs_background": "light"
     },
     "output_type": "display_data"
    }
   ],
   "source": [
    "f, ax = plt.subplots(figsize=(15, 12))\n",
    "plt.xticks(rotation=\"90\")\n",
    "sns.barplot(y= all_data_na,x=all_data_na.index)\n",
    "plt.xlabel(\"Features\", fontsize=15)\n",
    "plt.ylabel(\"Percent of missing values\", fontsize=15)\n",
    "plt.title(\"Percent missing data by feature\", fontsize=15)\n",
    "plt.show()"
   ]
  },
  {
   "cell_type": "markdown",
   "id": "2b5ed973",
   "metadata": {},
   "source": [
    "### 数据相关性"
   ]
  },
  {
   "cell_type": "markdown",
   "id": "ab2db0cc",
   "metadata": {},
   "source": [
    "查看各个特征与标签的相关性"
   ]
  },
  {
   "cell_type": "code",
   "execution_count": 19,
   "id": "0cde1ebe",
   "metadata": {},
   "outputs": [
    {
     "data": {
      "image/png": "[encoded data removed]",
      "text/plain": [
       "<Figure size 864x648 with 2 Axes>"
      ]
     },
     "metadata": {
      "needs_background": "light"
     },
     "output_type": "display_data"
    }
   ],
   "source": [
    "corrmat = train.corr()\n",
    "plt.subplots(figsize=(12, 9))\n",
    "sns.heatmap(corrmat, vmax=0.9, square=True);"
   ]
  },
  {
   "cell_type": "markdown",
   "id": "fa1ed0b9",
   "metadata": {},
   "source": [
    "### 填补缺失值"
   ]
  },
  {
   "cell_type": "markdown",
   "id": "4df59a8e",
   "metadata": {},
   "source": [
    "PoolQC 游泳池\n",
    "\n",
    "数据描述称NA的意思是没有游泳池。\n",
    "考虑到缺失值的巨大比例（+99%），而且大多数房屋基本上没有泳池，这是有道理的。"
   ]
  },
  {
   "cell_type": "code",
   "execution_count": 20,
   "id": "001cd4eb",
   "metadata": {},
   "outputs": [],
   "source": [
    "all_data[\"PoolQC\"] = all_data[\"PoolQC\"].fillna(\"None\")"
   ]
  },
  {
   "cell_type": "markdown",
   "id": "b45700cf",
   "metadata": {},
   "source": [
    "MiscFeature 杂质特征\n",
    "\n",
    "数据的缺数说明没有杂项特征（杂项特征是其他特征没有描述的，不统一的一些特征，比如说多出来的车库，篮球场等）。"
   ]
  },
  {
   "cell_type": "code",
   "execution_count": 21,
   "id": "d5e91ab6",
   "metadata": {},
   "outputs": [],
   "source": [
    "all_data[\"MiscFeature\"] = all_data[\"MiscFeature\"].fillna(\"None\")"
   ]
  },
  {
   "cell_type": "markdown",
   "id": "54588b03",
   "metadata": {},
   "source": [
    "Alley 胡同\n",
    "\n",
    "数据的缺数说明没有通往物业的胡同"
   ]
  },
  {
   "cell_type": "code",
   "execution_count": 22,
   "id": "41d53277",
   "metadata": {},
   "outputs": [],
   "source": [
    "all_data[\"Alley\"] = all_data[\"Alley\"].fillna(\"None\")"
   ]
  },
  {
   "cell_type": "markdown",
   "id": "42574491",
   "metadata": {},
   "source": [
    "Fence 围栏\n",
    "\n",
    "数据的缺失说明没有围栏"
   ]
  },
  {
   "cell_type": "code",
   "execution_count": 23,
   "id": "063e0768",
   "metadata": {},
   "outputs": [],
   "source": [
    "all_data[\"Fence\"] = all_data[\"Fence\"].fillna(\"None\")"
   ]
  },
  {
   "cell_type": "markdown",
   "id": "a53f9456",
   "metadata": {},
   "source": [
    "FireplaceQu 壁炉\n",
    "\n",
    "数据的缺失说明没有壁炉"
   ]
  },
  {
   "cell_type": "code",
   "execution_count": 24,
   "id": "8699048e",
   "metadata": {},
   "outputs": [],
   "source": [
    "all_data[\"FireplaceQu\"] = all_data[\"FireplaceQu\"].fillna(\"None\")"
   ]
  },
  {
   "cell_type": "markdown",
   "id": "bd3a6567",
   "metadata": {},
   "source": [
    "LotFrontage 与房产相邻的街道尺寸\n",
    "\n",
    "与房产相邻街道的尺寸可能与相同地区其他的尺寸相似，我们可以用相邻地区的LotFrontage的中值来填补缺失值\n"
   ]
  },
  {
   "cell_type": "code",
   "execution_count": 25,
   "id": "d7ec79d3",
   "metadata": {},
   "outputs": [],
   "source": [
    "all_data[\"LotFrontage\"] = all_data.groupby(\"Neighborhood\")[\"LotFrontage\"].transform(\n",
    "lambda x:x.fillna(x.median()))"
   ]
  },
  {
   "cell_type": "markdown",
   "id": "ba11394c",
   "metadata": {},
   "source": [
    "GarageType, GarageFinish, GarageQual and GarageCond 车库类型，车库内部装修，车库质量，车库条件\n",
    "\n",
    "这些关于车库的离散值，缺失值我们用None表示"
   ]
  },
  {
   "cell_type": "code",
   "execution_count": 26,
   "id": "02c5e889",
   "metadata": {},
   "outputs": [],
   "source": [
    "for col in ('GarageType', 'GarageFinish', 'GarageQual', 'GarageCond'):\n",
    "    all_data[col] = all_data[col].fillna(\"None\")"
   ]
  },
  {
   "cell_type": "markdown",
   "id": "d0b73601",
   "metadata": {},
   "source": [
    "GarageYrBlt, GarageArea and GarageCars 车库好久修建的，车库面积（平方英尺），可容纳汽车数\n",
    "\n",
    "缺失值可能说明根本就没有车库，这些连续值我们用0来填补"
   ]
  },
  {
   "cell_type": "code",
   "execution_count": 27,
   "id": "6e5c491d",
   "metadata": {},
   "outputs": [],
   "source": [
    "for col in (\"GarageYrBlt\", \"GarageArea\", \"GarageCars\"):\n",
    "    all_data[col] = all_data[col].fillna(0)"
   ]
  },
  {
   "cell_type": "markdown",
   "id": "ec93161f",
   "metadata": {},
   "source": [
    "BsmtFinSF1, BsmtFinSF2, BsmtUnfSF, TotalBsmtSF, BsmtFullBath and BsmtHalfBath\n",
    "地下室（ 类型1的完成面积，类型2的面积，未完工的面积，总面积，全浴室，半浴室）\n",
    "\n",
    "这些有关地下室的连续值的缺失，可能说明没有地下室，所以用0替换缺失值"
   ]
  },
  {
   "cell_type": "code",
   "execution_count": 28,
   "id": "18db377a",
   "metadata": {},
   "outputs": [],
   "source": [
    "for col in ('BsmtFinSF1', 'BsmtFinSF2', 'BsmtUnfSF','TotalBsmtSF', 'BsmtFullBath', 'BsmtHalfBath'):\n",
    "    all_data[col] = all_data[col].fillna(0)"
   ]
  },
  {
   "cell_type": "markdown",
   "id": "79e30cc1",
   "metadata": {},
   "source": [
    "BsmtQual, BsmtCond, BsmtExposure, BsmtFinType1 and BsmtFinType2 地下室（高度，条件，和花园连接墙的高度，完工评级，另外部分评级（可能未完工之类，与前面有点差别））\n",
    "\n",
    "这些有关地下室的离散值的缺失，也可能说明没有地下室，所以可以用None来填补"
   ]
  },
  {
   "cell_type": "code",
   "execution_count": 29,
   "id": "189d7831",
   "metadata": {},
   "outputs": [],
   "source": [
    "for col in ('BsmtQual', 'BsmtCond', 'BsmtExposure', 'BsmtFinType1', 'BsmtFinType2'):\n",
    "    all_data[col] = all_data.fillna(\"None\")"
   ]
  },
  {
   "cell_type": "markdown",
   "id": "357f9f67",
   "metadata": {},
   "source": [
    "MasVnrArea and MasVnrType 贴石砖类型，表层砌体类型\n",
    "\n",
    "缺失值表示可能没有贴石砖"
   ]
  },
  {
   "cell_type": "code",
   "execution_count": 30,
   "id": "8ddcadec",
   "metadata": {},
   "outputs": [],
   "source": [
    "all_data[\"MasVnrType\"] = all_data[\"MasVnrType\"].fillna(\"None\")\n",
    "all_data[\"MasVnrArea\"] = all_data[\"MasVnrArea\"].fillna(0)"
   ]
  },
  {
   "cell_type": "markdown",
   "id": "fdd8a924",
   "metadata": {},
   "source": [
    "MSZoning 确定销售的分区\n",
    "\n",
    "RL最多，缺失值可以用RL代替"
   ]
  },
  {
   "cell_type": "code",
   "execution_count": 31,
   "id": "15256e00",
   "metadata": {},
   "outputs": [],
   "source": [
    "all_data[\"MSZoning\"] = all_data[\"MSZoning\"].fillna(all_data[\"MSZoning\"].mode()[0])"
   ]
  },
  {
   "cell_type": "markdown",
   "id": "e99e3ec5",
   "metadata": {},
   "source": [
    "Utilities 可用的公共设施\n",
    "对于这个分类特性，所有记录都是“AllPub”，除了一个“NoSeWa”和2个NA。\n",
    "\n",
    "因为带有NoSewa的房子在训练集中，所以这个特性对预测建模没有帮助。然后我们就可以直接删除这个特征。"
   ]
  },
  {
   "cell_type": "code",
   "execution_count": 32,
   "id": "4eca7baf",
   "metadata": {},
   "outputs": [
    {
     "name": "stdout",
     "output_type": "stream",
     "text": [
      "AllPub 2914\n",
      "NoSeWa 1\n",
      "miss values: 2\n"
     ]
    }
   ],
   "source": [
    "def feature_count(col):\n",
    "    for i in all_data[col].unique():\n",
    "        if str(i) != \"nan\":\n",
    "            print(i, all_data[col][all_data[col]==i].count())\n",
    "    print(\"miss values:\",all_data[col].isnull().sum())\n",
    "\n",
    "feature_count(\"Utilities\")"
   ]
  },
  {
   "cell_type": "code",
   "execution_count": 33,
   "id": "9d0e4279",
   "metadata": {},
   "outputs": [
    {
     "data": {
      "text/plain": [
       "943    NoSeWa\n",
       "Name: Utilities, dtype: object"
      ]
     },
     "execution_count": 33,
     "metadata": {},
     "output_type": "execute_result"
    }
   ],
   "source": [
    "all_data[\"Utilities\"][all_data[\"Utilities\"]==\"NoSeWa\"]"
   ]
  },
  {
   "cell_type": "code",
   "execution_count": 34,
   "id": "4c25370e",
   "metadata": {},
   "outputs": [],
   "source": [
    "all_data.drop(\"Utilities\", axis=1,inplace=True)"
   ]
  },
  {
   "cell_type": "markdown",
   "id": "d9ae01dd",
   "metadata": {},
   "source": [
    "Functional 家庭功能\n",
    "\n",
    "默认值是Tpy,所以我们将缺失值填补为Tpy"
   ]
  },
  {
   "cell_type": "code",
   "execution_count": 35,
   "id": "7bff59aa",
   "metadata": {},
   "outputs": [],
   "source": [
    "all_data[\"Functional\"].fillna(\"Typ\", inplace=True)"
   ]
  },
  {
   "cell_type": "markdown",
   "id": "49276f69",
   "metadata": {},
   "source": [
    "Electrical 电气系统\n",
    "\n",
    "这个缺失值只有一个，大多数值为SBrkr,所以讲缺失值填补为SBrkr"
   ]
  },
  {
   "cell_type": "code",
   "execution_count": 36,
   "id": "3638f0a3",
   "metadata": {},
   "outputs": [
    {
     "name": "stdout",
     "output_type": "stream",
     "text": [
      "SBrkr 2669\n",
      "FuseF 50\n",
      "FuseA 188\n",
      "FuseP 8\n",
      "Mix 1\n",
      "miss values: 1\n"
     ]
    }
   ],
   "source": [
    "feature_count(\"Electrical\")"
   ]
  },
  {
   "cell_type": "code",
   "execution_count": 37,
   "id": "531c3d4f",
   "metadata": {},
   "outputs": [],
   "source": [
    "all_data[\"Electrical\"].fillna(all_data[\"Electrical\"].mode()[0], inplace=True)"
   ]
  },
  {
   "cell_type": "markdown",
   "id": "f155e13b",
   "metadata": {},
   "source": [
    "KitchenQual 厨房品质\n",
    "\n",
    "缺失值也只有一个，用最多的值填补"
   ]
  },
  {
   "cell_type": "code",
   "execution_count": 38,
   "id": "1126d31f",
   "metadata": {},
   "outputs": [
    {
     "name": "stdout",
     "output_type": "stream",
     "text": [
      "Gd 1151\n",
      "TA 1492\n",
      "Ex 203\n",
      "Fa 70\n",
      "miss values: 1\n"
     ]
    }
   ],
   "source": [
    "feature_count(\"KitchenQual\")"
   ]
  },
  {
   "cell_type": "code",
   "execution_count": 39,
   "id": "b7247c1d",
   "metadata": {},
   "outputs": [],
   "source": [
    "all_data[\"KitchenQual\"].fillna(all_data[\"KitchenQual\"].mode()[0], inplace=True)"
   ]
  },
  {
   "cell_type": "markdown",
   "id": "c64e98f2",
   "metadata": {},
   "source": [
    "Exterior1st and Exterior2nd  房屋外部物品，额外房屋外部物品\n",
    "\n",
    "同样缺失值不多我们用常见值替换"
   ]
  },
  {
   "cell_type": "code",
   "execution_count": 40,
   "id": "94f5c6d1",
   "metadata": {},
   "outputs": [],
   "source": [
    "all_data[\"Exterior1st\"].fillna(all_data[\"Exterior1st\"].mode()[0], inplace=True)\n",
    "all_data[\"Exterior2nd\"].fillna(all_data[\"Exterior2nd\"].mode()[0], inplace=True)"
   ]
  },
  {
   "cell_type": "markdown",
   "id": "72be1204",
   "metadata": {},
   "source": [
    "SaleType 销售类型\n",
    "\n",
    "继续填补最多的值WD"
   ]
  },
  {
   "cell_type": "code",
   "execution_count": 41,
   "id": "bd9271c8",
   "metadata": {},
   "outputs": [
    {
     "name": "stdout",
     "output_type": "stream",
     "text": [
      "WD 2525\n",
      "New 237\n",
      "COD 87\n",
      "ConLD 26\n",
      "ConLI 9\n",
      "CWD 12\n",
      "ConLw 8\n",
      "Con 5\n",
      "Oth 7\n",
      "miss values: 1\n"
     ]
    }
   ],
   "source": [
    "feature_count(\"SaleType\")"
   ]
  },
  {
   "cell_type": "code",
   "execution_count": 42,
   "id": "61f7a068",
   "metadata": {},
   "outputs": [],
   "source": [
    "all_data[\"SaleType\"].fillna(all_data[\"SaleType\"].mode()[0], inplace=True)"
   ]
  },
  {
   "cell_type": "code",
   "execution_count": 43,
   "id": "60483585",
   "metadata": {},
   "outputs": [
    {
     "data": {
      "text/html": [
       "<div>\n",
       "<style scoped>\n",
       "    .dataframe tbody tr th:only-of-type {\n",
       "        vertical-align: middle;\n",
       "    }\n",
       "\n",
       "    .dataframe tbody tr th {\n",
       "        vertical-align: top;\n",
       "    }\n",
       "\n",
       "    .dataframe thead th {\n",
       "        text-align: right;\n",
       "    }\n",
       "</style>\n",
       "<table border=\"1\" class=\"dataframe\">\n",
       "  <thead>\n",
       "    <tr style=\"text-align: right;\">\n",
       "      <th></th>\n",
       "      <th>Missing Ratio</th>\n",
       "    </tr>\n",
       "  </thead>\n",
       "  <tbody>\n",
       "  </tbody>\n",
       "</table>\n",
       "</div>"
      ],
      "text/plain": [
       "Empty DataFrame\n",
       "Columns: [Missing Ratio]\n",
       "Index: []"
      ]
     },
     "execution_count": 43,
     "metadata": {},
     "output_type": "execute_result"
    }
   ],
   "source": [
    "all_data_na = (all_data.isnull().sum() / len(all_data)) * 100\n",
    "all_data_na = all_data_na.drop(all_data_na[all_data_na == 0].index).sort_values(ascending=False)\n",
    "missing_data = pd.DataFrame({\"Missing Ratio\": all_data_na})\n",
    "missing_data.head()"
   ]
  },
  {
   "cell_type": "markdown",
   "id": "4ade7833",
   "metadata": {},
   "source": [
    "没有返回值，意味着缺失值已经处理完了"
   ]
  },
  {
   "cell_type": "markdown",
   "id": "9e16e15f",
   "metadata": {},
   "source": [
    "## 更多特征工程"
   ]
  },
  {
   "cell_type": "markdown",
   "id": "21e6846f",
   "metadata": {},
   "source": [
    "### 转换一些实际上是分类的数值型变量"
   ]
  },
  {
   "cell_type": "code",
   "execution_count": 44,
   "id": "27ac1e4b",
   "metadata": {},
   "outputs": [],
   "source": [
    "# 建筑类型\n",
    "all_data[\"MSSubClass\"] = all_data[\"MSSubClass\"].apply(str)\n",
    "\n",
    "# 房子整体的材料和装饰评估\n",
    "# 房子的整体状况\n",
    "all_data[\"OverallQual\"] = all_data[\"OverallQual\"].apply(str)\n",
    "all_data[\"OverallCond\"] = all_data[\"OverallCond\"].apply(str)\n",
    "\n",
    "# 时间\n",
    "all_data[\"YrSold\"] = all_data[\"YrSold\"].apply(str)\n",
    "all_data[\"MoSold\"] = all_data[\"MoSold\"].apply(str)"
   ]
  },
  {
   "cell_type": "markdown",
   "id": "ef2abbb0",
   "metadata": {},
   "source": [
    "### Label Encoding一些分类变量，它们的排序集中可能包含信息\n",
    "\n",
    "注意Label Encoding和one hot以及get_dummies的区别"
   ]
  },
  {
   "cell_type": "code",
   "execution_count": 45,
   "id": "409b5b5d",
   "metadata": {},
   "outputs": [
    {
     "name": "stdout",
     "output_type": "stream",
     "text": [
      "shape all_data:(2917, 78)\n"
     ]
    }
   ],
   "source": [
    "from sklearn.preprocessing import LabelEncoder\n",
    "cols = ('FireplaceQu', 'BsmtQual', 'BsmtCond', 'GarageQual', 'GarageCond', \n",
    "        'ExterQual', 'ExterCond','HeatingQC', 'PoolQC', 'KitchenQual', 'BsmtFinType1', \n",
    "        'BsmtFinType2', 'Functional', 'Fence', 'BsmtExposure', 'GarageFinish', 'LandSlope',\n",
    "        'LotShape', 'PavedDrive', 'Street', 'Alley', 'CentralAir', 'MSSubClass', 'OverallCond', \n",
    "        'YrSold', 'MoSold')\n",
    "\n",
    "for c in cols:\n",
    "    lbl = LabelEncoder()\n",
    "    lbl.fit(list(all_data[c].values))\n",
    "    all_data[c] = lbl.transform(list(all_data[c].values))\n",
    "\n",
    "print(f\"shape all_data:{all_data.shape}\")"
   ]
  },
  {
   "cell_type": "markdown",
   "id": "24f0fea9",
   "metadata": {},
   "source": [
    "### 增加一项重要的特征"
   ]
  },
  {
   "cell_type": "markdown",
   "id": "f936709a",
   "metadata": {},
   "source": [
    "因为面积对于一个房子的价格来说是至关重要的，所以新增一个房子总面积的特征。 "
   ]
  },
  {
   "cell_type": "code",
   "execution_count": 46,
   "id": "cc874844",
   "metadata": {
    "scrolled": true
   },
   "outputs": [],
   "source": [
    "all_data[\"TotalSF\"] = all_data['TotalBsmtSF'] + all_data['1stFlrSF'] + all_data['2ndFlrSF']"
   ]
  },
  {
   "cell_type": "markdown",
   "id": "8dbf2a8f",
   "metadata": {},
   "source": [
    "### 特征偏态"
   ]
  },
  {
   "cell_type": "code",
   "execution_count": 47,
   "id": "2ffae782",
   "metadata": {},
   "outputs": [
    {
     "name": "stdout",
     "output_type": "stream",
     "text": [
      "\n",
      "Skew in numerical features: \n",
      "\n"
     ]
    },
    {
     "data": {
      "text/html": [
       "<div>\n",
       "<style scoped>\n",
       "    .dataframe tbody tr th:only-of-type {\n",
       "        vertical-align: middle;\n",
       "    }\n",
       "\n",
       "    .dataframe tbody tr th {\n",
       "        vertical-align: top;\n",
       "    }\n",
       "\n",
       "    .dataframe thead th {\n",
       "        text-align: right;\n",
       "    }\n",
       "</style>\n",
       "<table border=\"1\" class=\"dataframe\">\n",
       "  <thead>\n",
       "    <tr style=\"text-align: right;\">\n",
       "      <th></th>\n",
       "      <th>Skew</th>\n",
       "    </tr>\n",
       "  </thead>\n",
       "  <tbody>\n",
       "    <tr>\n",
       "      <th>MiscVal</th>\n",
       "      <td>21.940</td>\n",
       "    </tr>\n",
       "    <tr>\n",
       "      <th>PoolArea</th>\n",
       "      <td>17.689</td>\n",
       "    </tr>\n",
       "    <tr>\n",
       "      <th>LotArea</th>\n",
       "      <td>13.109</td>\n",
       "    </tr>\n",
       "    <tr>\n",
       "      <th>LowQualFinSF</th>\n",
       "      <td>12.085</td>\n",
       "    </tr>\n",
       "    <tr>\n",
       "      <th>3SsnPorch</th>\n",
       "      <td>11.372</td>\n",
       "    </tr>\n",
       "    <tr>\n",
       "      <th>LandSlope</th>\n",
       "      <td>4.973</td>\n",
       "    </tr>\n",
       "    <tr>\n",
       "      <th>KitchenAbvGr</th>\n",
       "      <td>4.301</td>\n",
       "    </tr>\n",
       "    <tr>\n",
       "      <th>BsmtFinSF2</th>\n",
       "      <td>4.145</td>\n",
       "    </tr>\n",
       "    <tr>\n",
       "      <th>EnclosedPorch</th>\n",
       "      <td>4.002</td>\n",
       "    </tr>\n",
       "    <tr>\n",
       "      <th>ScreenPorch</th>\n",
       "      <td>3.945</td>\n",
       "    </tr>\n",
       "  </tbody>\n",
       "</table>\n",
       "</div>"
      ],
      "text/plain": [
       "                Skew\n",
       "MiscVal       21.940\n",
       "PoolArea      17.689\n",
       "LotArea       13.109\n",
       "LowQualFinSF  12.085\n",
       "3SsnPorch     11.372\n",
       "LandSlope      4.973\n",
       "KitchenAbvGr   4.301\n",
       "BsmtFinSF2     4.145\n",
       "EnclosedPorch  4.002\n",
       "ScreenPorch    3.945"
      ]
     },
     "execution_count": 47,
     "metadata": {},
     "output_type": "execute_result"
    }
   ],
   "source": [
    "numeric_feats = all_data.dtypes[all_data.dtypes != \"object\"].index\n",
    "\n",
    "# 检查所有数值型数据的偏态\n",
    "skewed_feats = all_data[numeric_feats].apply(lambda x:skew(x.dropna())).sort_values(ascending=False)\n",
    "print(\"\\nSkew in numerical features: \\n\")\n",
    "skewness = pd.DataFrame({'Skew':skewed_feats})\n",
    "skewness.head(10)"
   ]
  },
  {
   "cell_type": "markdown",
   "id": "a2361513",
   "metadata": {},
   "source": [
    "### 偏态比较大的数据进行Box-Cox变换"
   ]
  },
  {
   "cell_type": "code",
   "execution_count": 48,
   "id": "c76b9884",
   "metadata": {},
   "outputs": [
    {
     "name": "stdout",
     "output_type": "stream",
     "text": [
      "这里有58个特征需要Box-Cox变换\n"
     ]
    }
   ],
   "source": [
    "skewness = skewness[abs(skewness) > 0.75]\n",
    "print(f\"这里有{skewness.shape[0]}个特征需要Box-Cox变换\")\n",
    "\n",
    "from scipy.special import boxcox1p\n",
    "skewed_features = skewness.index\n",
    "lam = 0.15\n",
    "for feat in skewed_features:\n",
    "    all_data[feat] = boxcox1p(all_data[feat], lam)"
   ]
  },
  {
   "cell_type": "markdown",
   "id": "f4f40385",
   "metadata": {},
   "source": [
    "### Getting dummy 分类型变量"
   ]
  },
  {
   "cell_type": "code",
   "execution_count": 49,
   "id": "0bee8501",
   "metadata": {},
   "outputs": [
    {
     "name": "stdout",
     "output_type": "stream",
     "text": [
      "(2917, 229)\n"
     ]
    }
   ],
   "source": [
    "all_data = pd.get_dummies(all_data)\n",
    "print(all_data.shape)"
   ]
  },
  {
   "cell_type": "markdown",
   "id": "100dbe3c",
   "metadata": {},
   "source": [
    "### 得到新的训练集和测试集"
   ]
  },
  {
   "cell_type": "code",
   "execution_count": 50,
   "id": "8b6e2113",
   "metadata": {},
   "outputs": [],
   "source": [
    "train = all_data[:ntrain]\n",
    "test = all_data[ntrain:]"
   ]
  },
  {
   "cell_type": "markdown",
   "id": "b4e37b78",
   "metadata": {},
   "source": [
    "# 模型"
   ]
  },
  {
   "cell_type": "markdown",
   "id": "69e5f315",
   "metadata": {},
   "source": [
    "### 导入模型"
   ]
  },
  {
   "cell_type": "code",
   "execution_count": 51,
   "id": "f2cc708d",
   "metadata": {},
   "outputs": [],
   "source": [
    "from sklearn.linear_model import ElasticNet, Lasso\n",
    "from sklearn.ensemble import RandomForestRegressor, GradientBoostingRegressor\n",
    "from sklearn.kernel_ridge import KernelRidge\n",
    "from sklearn.pipeline import make_pipeline\n",
    "from sklearn.preprocessing import RobustScaler\n",
    "from sklearn.base import BaseEstimator, TransformerMixin, RegressorMixin, clone\n",
    "from sklearn.model_selection import KFold, cross_val_score, train_test_split\n",
    "from sklearn.metrics import mean_squared_error\n",
    "import xgboost as xgb\n",
    "import lightgbm as lgb"
   ]
  },
  {
   "cell_type": "markdown",
   "id": "8bb09daa",
   "metadata": {},
   "source": [
    "ElasticNet在我们发现用Lasso回归太过(太多特征被稀疏为0),而岭回归也正则化的不够(回归系数衰减太慢)的时候，可以考虑使用ElasticNet回归来综合，得到比较好的结果。\n",
    "RobustScaler和StandardScaler比较近似，但是它并不是用均值和方差来进行转换，而是使用中位数和四分位矩。RobustScaler这种方法称为‘粗暴缩放’，它会直接把一些异常值踢出去，有点类似我们看体育节目中评委常说的‘去掉一个最高分，去掉一个最低分’这样的情况。"
   ]
  },
  {
   "cell_type": "markdown",
   "id": "b31f2ba4",
   "metadata": {},
   "source": [
    "### 定义交叉验证策略"
   ]
  },
  {
   "cell_type": "markdown",
   "id": "92b75639",
   "metadata": {},
   "source": [
    "使用cross_val_score，然而这个函数没有打乱的功能，我们添加一行代码实现这个功能"
   ]
  },
  {
   "cell_type": "code",
   "execution_count": 52,
   "id": "5d340154",
   "metadata": {},
   "outputs": [],
   "source": [
    "n_folds = 5\n",
    "\n",
    "# def rmsle_cv(model):\n",
    "#     kf = KFold(n_folds, shuffle=True, random_state=42).get_n_splits(train.values)\n",
    "#     rmse = np.sqrt(-cross_val_score(model, train.values, y_trian, scoring=\"neg_mean_squared_error\", cv=kf))\n",
    "#     return (rmse)\n",
    "\n",
    "def rmsle_cv(model):\n",
    "    kf = KFold(n_folds, shuffle=True, random_state=42).get_n_splits(train.values)\n",
    "    rmse= np.sqrt(-cross_val_score(model, train.values, y_trian, scoring=\"neg_mean_squared_error\", cv = kf))\n",
    "    return(rmse)"
   ]
  },
  {
   "cell_type": "markdown",
   "id": "fd76aaa9",
   "metadata": {},
   "source": [
    "### 基础模型"
   ]
  },
  {
   "cell_type": "markdown",
   "id": "1523bd4d",
   "metadata": {},
   "source": [
    "#### lasso回归\n",
    "这个模型对异常值非常敏感，所以需要用RobustScaler()来\"粗暴缩放\"\n",
    "所以在管道上使用RobustScaler()方法"
   ]
  },
  {
   "cell_type": "code",
   "execution_count": 53,
   "id": "1fd62c33",
   "metadata": {},
   "outputs": [],
   "source": [
    "lasso = make_pipeline(RobustScaler(), Lasso(alpha=0.0005, random_state=1))"
   ]
  },
  {
   "cell_type": "markdown",
   "id": "279bf0e1",
   "metadata": {},
   "source": [
    "#### 弹性网回归\n",
    "对异常值也敏感"
   ]
  },
  {
   "cell_type": "code",
   "execution_count": 54,
   "id": "c2625ce1",
   "metadata": {},
   "outputs": [],
   "source": [
    "ENet = make_pipeline(RobustScaler(), ElasticNet(alpha=0.0005, l1_ratio=.9, random_state=3))"
   ]
  },
  {
   "cell_type": "markdown",
   "id": "0b283cad",
   "metadata": {},
   "source": [
    "#### 核岭回归"
   ]
  },
  {
   "cell_type": "code",
   "execution_count": 55,
   "id": "14fcd7ca",
   "metadata": {},
   "outputs": [],
   "source": [
    "KRR = KernelRidge(alpha=0.6, kernel='polynomial', degree=2, coef0=2.5)"
   ]
  },
  {
   "cell_type": "markdown",
   "id": "12297535",
   "metadata": {},
   "source": [
    "#### 梯度提升回归 GBoost\n",
    "使用hubei损失，是对异常值更稳定"
   ]
  },
  {
   "cell_type": "code",
   "execution_count": 56,
   "id": "a60be2fb",
   "metadata": {},
   "outputs": [],
   "source": [
    "GBoost = GradientBoostingRegressor(n_estimators=3000, learning_rate=0.05,\n",
    "                                  max_depth=4, max_features='sqrt',\n",
    "                                  min_samples_leaf=15, min_impurity_split=10,\n",
    "                                  loss='huber', random_state=5)"
   ]
  },
  {
   "cell_type": "markdown",
   "id": "efcf9b4d",
   "metadata": {},
   "source": [
    "#### XGBoost"
   ]
  },
  {
   "cell_type": "code",
   "execution_count": 57,
   "id": "39135138",
   "metadata": {},
   "outputs": [],
   "source": [
    "model_xgb = xgb.XGBRegressor(colsample_bytree=0.4603, gamma=0.0468, \n",
    "                             learning_rate=0.05, max_depth=3, \n",
    "                             min_child_weight=1.7817, n_estimators=2200,\n",
    "                             reg_alpha=0.4640, reg_lambda=0.8571,\n",
    "                             subsample=0.5213, silent=1,\n",
    "                             random_state =7, nthread = -1)"
   ]
  },
  {
   "cell_type": "code",
   "execution_count": 58,
   "id": "2c0dd2fa",
   "metadata": {},
   "outputs": [],
   "source": [
    "model_lgb = lgb.LGBMRegressor(objective='regression', num_leaves=5,\n",
    "                             learning_rate=0.05, n_estimators=720,\n",
    "                              max_bin = 55, bagging_fraction = 0.8,\n",
    "                              bagging_freq = 5, feature_fraction = 0.2319,\n",
    "                              feature_fraction_seed=9, bagging_seed=9,\n",
    "                              min_data_in_leaf =6, min_sum_hessian_in_leaf = 11)"
   ]
  },
  {
   "cell_type": "code",
   "execution_count": 59,
   "id": "e77f4822",
   "metadata": {},
   "outputs": [],
   "source": [
    "model_rfr = RandomForestRegressor(n_estimators=300, min_samples_leaf=2, random_state=420)"
   ]
  },
  {
   "cell_type": "code",
   "execution_count": 60,
   "id": "b4318fe7",
   "metadata": {},
   "outputs": [
    {
     "name": "stdout",
     "output_type": "stream",
     "text": [
      "Lasso score:0.1113 (0.0070)\n"
     ]
    }
   ],
   "source": [
    "score = rmsle_cv(lasso)\n",
    "print(f\"Lasso score:{score.mean():.4f} ({score.std():.4f})\")"
   ]
  },
  {
   "cell_type": "code",
   "execution_count": 61,
   "id": "97dcfe60",
   "metadata": {},
   "outputs": [
    {
     "name": "stdout",
     "output_type": "stream",
     "text": [
      "ElasticNet score:0.1112 (0.0070)\n"
     ]
    }
   ],
   "source": [
    "score = rmsle_cv(ENet)\n",
    "print(f\"ElasticNet score:{score.mean():.4f} ({score.std():.4f})\")"
   ]
  },
  {
   "cell_type": "code",
   "execution_count": 62,
   "id": "93d35120",
   "metadata": {},
   "outputs": [
    {
     "name": "stdout",
     "output_type": "stream",
     "text": [
      "Kernel score:0.1154 (0.0063)\n"
     ]
    }
   ],
   "source": [
    "score = rmsle_cv(KRR)\n",
    "print(f\"Kernel score:{score.mean():.4f} ({score.std():.4f})\")"
   ]
  },
  {
   "cell_type": "code",
   "execution_count": 63,
   "id": "f81a1784",
   "metadata": {},
   "outputs": [
    {
     "name": "stdout",
     "output_type": "stream",
     "text": [
      "GBoost score:0.3995 (0.0160)\n"
     ]
    }
   ],
   "source": [
    "score = rmsle_cv(GBoost)\n",
    "print(f\"GBoost score:{score.mean():.4f} ({score.std():.4f})\")"
   ]
  },
  {
   "cell_type": "code",
   "execution_count": 64,
   "id": "c5ea6480",
   "metadata": {
    "collapsed": true
   },
   "outputs": [
    {
     "name": "stdout",
     "output_type": "stream",
     "text": [
      "[19:45:41] WARNING: C:/Users/Administrator/workspace/xgboost-win64_release_1.5.1/src/learner.cc:576: \n",
      "Parameters: { \"silent\" } might not be used.\n",
      "\n",
      "  This could be a false alarm, with some parameters getting used by language bindings but\n",
      "  then being mistakenly passed down to XGBoost core, or some parameter actually being used\n",
      "  but getting flagged wrongly here. Please open an issue if you find any such cases.\n",
      "\n",
      "\n",
      "[19:45:43] WARNING: C:/Users/Administrator/workspace/xgboost-win64_release_1.5.1/src/learner.cc:576: \n",
      "Parameters: { \"silent\" } might not be used.\n",
      "\n",
      "  This could be a false alarm, with some parameters getting used by language bindings but\n",
      "  then being mistakenly passed down to XGBoost core, or some parameter actually being used\n",
      "  but getting flagged wrongly here. Please open an issue if you find any such cases.\n",
      "\n",
      "\n",
      "[19:45:46] WARNING: C:/Users/Administrator/workspace/xgboost-win64_release_1.5.1/src/learner.cc:576: \n",
      "Parameters: { \"silent\" } might not be used.\n",
      "\n",
      "  This could be a false alarm, with some parameters getting used by language bindings but\n",
      "  then being mistakenly passed down to XGBoost core, or some parameter actually being used\n",
      "  but getting flagged wrongly here. Please open an issue if you find any such cases.\n",
      "\n",
      "\n",
      "[19:45:48] WARNING: C:/Users/Administrator/workspace/xgboost-win64_release_1.5.1/src/learner.cc:576: \n",
      "Parameters: { \"silent\" } might not be used.\n",
      "\n",
      "  This could be a false alarm, with some parameters getting used by language bindings but\n",
      "  then being mistakenly passed down to XGBoost core, or some parameter actually being used\n",
      "  but getting flagged wrongly here. Please open an issue if you find any such cases.\n",
      "\n",
      "\n",
      "[19:45:50] WARNING: C:/Users/Administrator/workspace/xgboost-win64_release_1.5.1/src/learner.cc:576: \n",
      "Parameters: { \"silent\" } might not be used.\n",
      "\n",
      "  This could be a false alarm, with some parameters getting used by language bindings but\n",
      "  then being mistakenly passed down to XGBoost core, or some parameter actually being used\n",
      "  but getting flagged wrongly here. Please open an issue if you find any such cases.\n",
      "\n",
      "\n",
      "xgboost:0.1196 (0.0052)\n"
     ]
    }
   ],
   "source": [
    "score = rmsle_cv(model_xgb)\n",
    "print(f\"xgboost:{score.mean():.4f} ({score.std():.4f})\")\n",
    "# xgboost:0.1196 (0.0052)"
   ]
  },
  {
   "cell_type": "code",
   "execution_count": 65,
   "id": "91c62615",
   "metadata": {
    "collapsed": true
   },
   "outputs": [
    {
     "name": "stdout",
     "output_type": "stream",
     "text": [
      "[LightGBM] [Warning] feature_fraction is set=0.2319, colsample_bytree=1.0 will be ignored. Current value: feature_fraction=0.2319\n",
      "[LightGBM] [Warning] min_data_in_leaf is set=6, min_child_samples=20 will be ignored. Current value: min_data_in_leaf=6\n",
      "[LightGBM] [Warning] min_sum_hessian_in_leaf is set=11, min_child_weight=0.001 will be ignored. Current value: min_sum_hessian_in_leaf=11\n",
      "[LightGBM] [Warning] bagging_fraction is set=0.8, subsample=1.0 will be ignored. Current value: bagging_fraction=0.8\n",
      "[LightGBM] [Warning] bagging_freq is set=5, subsample_freq=0 will be ignored. Current value: bagging_freq=5\n",
      "[LightGBM] [Warning] feature_fraction is set=0.2319, colsample_bytree=1.0 will be ignored. Current value: feature_fraction=0.2319\n",
      "[LightGBM] [Warning] min_data_in_leaf is set=6, min_child_samples=20 will be ignored. Current value: min_data_in_leaf=6\n",
      "[LightGBM] [Warning] min_sum_hessian_in_leaf is set=11, min_child_weight=0.001 will be ignored. Current value: min_sum_hessian_in_leaf=11\n",
      "[LightGBM] [Warning] bagging_fraction is set=0.8, subsample=1.0 will be ignored. Current value: bagging_fraction=0.8\n",
      "[LightGBM] [Warning] bagging_freq is set=5, subsample_freq=0 will be ignored. Current value: bagging_freq=5\n",
      "[LightGBM] [Warning] feature_fraction is set=0.2319, colsample_bytree=1.0 will be ignored. Current value: feature_fraction=0.2319\n",
      "[LightGBM] [Warning] min_data_in_leaf is set=6, min_child_samples=20 will be ignored. Current value: min_data_in_leaf=6\n",
      "[LightGBM] [Warning] min_sum_hessian_in_leaf is set=11, min_child_weight=0.001 will be ignored. Current value: min_sum_hessian_in_leaf=11\n",
      "[LightGBM] [Warning] bagging_fraction is set=0.8, subsample=1.0 will be ignored. Current value: bagging_fraction=0.8\n",
      "[LightGBM] [Warning] bagging_freq is set=5, subsample_freq=0 will be ignored. Current value: bagging_freq=5\n",
      "[LightGBM] [Warning] feature_fraction is set=0.2319, colsample_bytree=1.0 will be ignored. Current value: feature_fraction=0.2319\n",
      "[LightGBM] [Warning] min_data_in_leaf is set=6, min_child_samples=20 will be ignored. Current value: min_data_in_leaf=6\n",
      "[LightGBM] [Warning] min_sum_hessian_in_leaf is set=11, min_child_weight=0.001 will be ignored. Current value: min_sum_hessian_in_leaf=11\n",
      "[LightGBM] [Warning] bagging_fraction is set=0.8, subsample=1.0 will be ignored. Current value: bagging_fraction=0.8\n",
      "[LightGBM] [Warning] bagging_freq is set=5, subsample_freq=0 will be ignored. Current value: bagging_freq=5\n",
      "[LightGBM] [Warning] feature_fraction is set=0.2319, colsample_bytree=1.0 will be ignored. Current value: feature_fraction=0.2319\n",
      "[LightGBM] [Warning] min_data_in_leaf is set=6, min_child_samples=20 will be ignored. Current value: min_data_in_leaf=6\n",
      "[LightGBM] [Warning] min_sum_hessian_in_leaf is set=11, min_child_weight=0.001 will be ignored. Current value: min_sum_hessian_in_leaf=11\n",
      "[LightGBM] [Warning] bagging_fraction is set=0.8, subsample=1.0 will be ignored. Current value: bagging_fraction=0.8\n",
      "[LightGBM] [Warning] bagging_freq is set=5, subsample_freq=0 will be ignored. Current value: bagging_freq=5\n",
      "LGBM score:0.1178 (0.0054)\n"
     ]
    }
   ],
   "source": [
    "score = rmsle_cv(model_lgb)\n",
    "print(f\"LGBM score:{score.mean():.4f} ({score.std():.4f})\")\n",
    "# LGBM score:0.1178 (0.0054)"
   ]
  },
  {
   "cell_type": "code",
   "execution_count": 66,
   "id": "c0fa3f4b",
   "metadata": {},
   "outputs": [
    {
     "name": "stdout",
     "output_type": "stream",
     "text": [
      "RandomForestRegressor:0.1377 (0.0058)\n"
     ]
    }
   ],
   "source": [
    "score = rmsle_cv(model_rfr)\n",
    "print(f\"RandomForestRegressor:{score.mean():.4f} ({score.std():.4f})\")"
   ]
  },
  {
   "cell_type": "markdown",
   "id": "75503c19",
   "metadata": {},
   "source": [
    "## Stacking models"
   ]
  },
  {
   "cell_type": "markdown",
   "id": "c816ef38",
   "metadata": {},
   "source": [
    "### 简单叠加：平均叠加"
   ]
  },
  {
   "cell_type": "markdown",
   "id": "029ec66f",
   "metadata": {},
   "source": [
    "定义一个均分基础模型类"
   ]
  },
  {
   "cell_type": "code",
   "execution_count": 67,
   "id": "118d0a1a",
   "metadata": {},
   "outputs": [],
   "source": [
    "class AveragingModels(BaseEstimator, RegressorMixin, TransformerMixin):\n",
    "    def __init__(self, models):\n",
    "        self.models = models\n",
    "        \n",
    "    def fit(self, X, y):\n",
    "        self.models_ = [clone(x) for x in self.models]\n",
    "        for model in self.models_:\n",
    "            model.fit(X, y)\n",
    "        return self\n",
    "    \n",
    "    # 预测，并返回平均结果\n",
    "    def predict(self, X):\n",
    "        predictions = np.column_stack([\n",
    "            model.predict(X) for model in self.models_\n",
    "        ])\n",
    "        return np.mean(predictions, axis=1)"
   ]
  },
  {
   "cell_type": "markdown",
   "id": "4f9b06b6",
   "metadata": {},
   "source": [
    "#### 平均模型得分"
   ]
  },
  {
   "cell_type": "code",
   "execution_count": 68,
   "id": "b3474cee",
   "metadata": {},
   "outputs": [],
   "source": [
    "averaged_models = AveragingModels(models=(ENet, KRR, lasso, model_rfr))"
   ]
  },
  {
   "cell_type": "code",
   "execution_count": 69,
   "id": "4f31c5ca",
   "metadata": {
    "scrolled": true
   },
   "outputs": [
    {
     "name": "stdout",
     "output_type": "stream",
     "text": [
      " Averaged base models score: 0.1108 (0.0061)\n",
      "\n"
     ]
    }
   ],
   "source": [
    "score = rmsle_cv(averaged_models)\n",
    "print(\" Averaged base models score: {:.4f} ({:.4f})\\n\".format(score.mean(), score.std())) "
   ]
  },
  {
   "cell_type": "code",
   "execution_count": 70,
   "id": "c4e47f51",
   "metadata": {},
   "outputs": [
    {
     "name": "stdout",
     "output_type": "stream",
     "text": [
      "[19:46:39] WARNING: C:/Users/Administrator/workspace/xgboost-win64_release_1.5.1/src/learner.cc:576: \n",
      "Parameters: { \"silent\" } might not be used.\n",
      "\n",
      "  This could be a false alarm, with some parameters getting used by language bindings but\n",
      "  then being mistakenly passed down to XGBoost core, or some parameter actually being used\n",
      "  but getting flagged wrongly here. Please open an issue if you find any such cases.\n",
      "\n",
      "\n",
      "[LightGBM] [Warning] feature_fraction is set=0.2319, colsample_bytree=1.0 will be ignored. Current value: feature_fraction=0.2319\n",
      "[LightGBM] [Warning] min_data_in_leaf is set=6, min_child_samples=20 will be ignored. Current value: min_data_in_leaf=6\n",
      "[LightGBM] [Warning] min_sum_hessian_in_leaf is set=11, min_child_weight=0.001 will be ignored. Current value: min_sum_hessian_in_leaf=11\n",
      "[LightGBM] [Warning] bagging_fraction is set=0.8, subsample=1.0 will be ignored. Current value: bagging_fraction=0.8\n",
      "[LightGBM] [Warning] bagging_freq is set=5, subsample_freq=0 will be ignored. Current value: bagging_freq=5\n"
     ]
    },
    {
     "data": {
      "text/plain": [
       "AveragingModels(models=(Pipeline(steps=[('robustscaler', RobustScaler()),\n",
       "                                        ('elasticnet',\n",
       "                                         ElasticNet(alpha=0.0005, l1_ratio=0.9,\n",
       "                                                    random_state=3))]),\n",
       "                        KernelRidge(alpha=0.6, coef0=2.5, degree=2,\n",
       "                                    kernel='polynomial'),\n",
       "                        Pipeline(steps=[('robustscaler', RobustScaler()),\n",
       "                                        ('lasso',\n",
       "                                         Lasso(alpha=0.0005, random_state=1))]),\n",
       "                        XGBRegressor(base_score=None, booster=None,\n",
       "                                     colsample...\n",
       "                                     reg_lambda=0.8571, scale_pos_weight=None,\n",
       "                                     silent=1, subsample=0.5213,\n",
       "                                     tree_method=None, validate_parameters=None,\n",
       "                                     verbosity=None),\n",
       "                        LGBMRegressor(bagging_fraction=0.8, bagging_freq=5,\n",
       "                                      bagging_seed=9, feature_fraction=0.2319,\n",
       "                                      feature_fraction_seed=9,\n",
       "                                      learning_rate=0.05, max_bin=55,\n",
       "                                      min_data_in_leaf=6,\n",
       "                                      min_sum_hessian_in_leaf=11,\n",
       "                                      n_estimators=720, num_leaves=5,\n",
       "                                      objective='regression')))"
      ]
     },
     "execution_count": 70,
     "metadata": {},
     "output_type": "execute_result"
    }
   ],
   "source": [
    "avg = AveragingModels(models=(ENet, KRR, lasso, model_xgb, model_lgb))\n",
    "avg.fit(train.values, y_trian)"
   ]
  },
  {
   "cell_type": "code",
   "execution_count": 71,
   "id": "e2037275",
   "metadata": {},
   "outputs": [],
   "source": [
    "pred = avg.predict(test.values)"
   ]
  },
  {
   "cell_type": "code",
   "execution_count": 72,
   "id": "df89d832",
   "metadata": {},
   "outputs": [],
   "source": [
    "sub = pd.DataFrame()\n",
    "sub[\"Id\"] = test_ID\n",
    "sub[\"SalePrice\"] = np.expm1(pred)\n",
    "sub.to_csv(\"AveragingStackingModels.csv\", index=False)"
   ]
  },
  {
   "cell_type": "code",
   "execution_count": 73,
   "id": "d334dccb",
   "metadata": {},
   "outputs": [
    {
     "data": {
      "text/html": [
       "<div>\n",
       "<style scoped>\n",
       "    .dataframe tbody tr th:only-of-type {\n",
       "        vertical-align: middle;\n",
       "    }\n",
       "\n",
       "    .dataframe tbody tr th {\n",
       "        vertical-align: top;\n",
       "    }\n",
       "\n",
       "    .dataframe thead th {\n",
       "        text-align: right;\n",
       "    }\n",
       "</style>\n",
       "<table border=\"1\" class=\"dataframe\">\n",
       "  <thead>\n",
       "    <tr style=\"text-align: right;\">\n",
       "      <th></th>\n",
       "      <th>Id</th>\n",
       "      <th>SalePrice</th>\n",
       "    </tr>\n",
       "  </thead>\n",
       "  <tbody>\n",
       "    <tr>\n",
       "      <th>0</th>\n",
       "      <td>1461</td>\n",
       "      <td>122561.992</td>\n",
       "    </tr>\n",
       "    <tr>\n",
       "      <th>1</th>\n",
       "      <td>1462</td>\n",
       "      <td>161186.567</td>\n",
       "    </tr>\n",
       "    <tr>\n",
       "      <th>2</th>\n",
       "      <td>1463</td>\n",
       "      <td>190412.029</td>\n",
       "    </tr>\n",
       "    <tr>\n",
       "      <th>3</th>\n",
       "      <td>1464</td>\n",
       "      <td>200224.191</td>\n",
       "    </tr>\n",
       "    <tr>\n",
       "      <th>4</th>\n",
       "      <td>1465</td>\n",
       "      <td>195097.379</td>\n",
       "    </tr>\n",
       "    <tr>\n",
       "      <th>...</th>\n",
       "      <td>...</td>\n",
       "      <td>...</td>\n",
       "    </tr>\n",
       "    <tr>\n",
       "      <th>1454</th>\n",
       "      <td>2915</td>\n",
       "      <td>88633.398</td>\n",
       "    </tr>\n",
       "    <tr>\n",
       "      <th>1455</th>\n",
       "      <td>2916</td>\n",
       "      <td>85727.868</td>\n",
       "    </tr>\n",
       "    <tr>\n",
       "      <th>1456</th>\n",
       "      <td>2917</td>\n",
       "      <td>171631.100</td>\n",
       "    </tr>\n",
       "    <tr>\n",
       "      <th>1457</th>\n",
       "      <td>2918</td>\n",
       "      <td>117470.935</td>\n",
       "    </tr>\n",
       "    <tr>\n",
       "      <th>1458</th>\n",
       "      <td>2919</td>\n",
       "      <td>221446.334</td>\n",
       "    </tr>\n",
       "  </tbody>\n",
       "</table>\n",
       "<p>1459 rows × 2 columns</p>\n",
       "</div>"
      ],
      "text/plain": [
       "        Id  SalePrice\n",
       "0     1461 122561.992\n",
       "1     1462 161186.567\n",
       "2     1463 190412.029\n",
       "3     1464 200224.191\n",
       "4     1465 195097.379\n",
       "...    ...        ...\n",
       "1454  2915  88633.398\n",
       "1455  2916  85727.868\n",
       "1456  2917 171631.100\n",
       "1457  2918 117470.935\n",
       "1458  2919 221446.334\n",
       "\n",
       "[1459 rows x 2 columns]"
      ]
     },
     "execution_count": 73,
     "metadata": {},
     "output_type": "execute_result"
    }
   ],
   "source": [
    "sub"
   ]
  }
 ],
 "metadata": {
  "kernelspec": {
   "display_name": "Python 3",
   "language": "python",
   "name": "python3"
  },
  "language_info": {
   "codemirror_mode": {
    "name": "ipython",
    "version": 3
   },
   "file_extension": ".py",
   "mimetype": "text/x-python",
   "name": "python",
   "nbconvert_exporter": "python",
   "pygments_lexer": "ipython3",
   "version": "3.8.8"
  }
 },
 "nbformat": 4,
 "nbformat_minor": 5
}
